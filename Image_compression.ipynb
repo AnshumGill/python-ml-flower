{
 "cells": [
  {
   "cell_type": "code",
   "execution_count": 4,
   "metadata": {},
   "outputs": [],
   "source": [
    "from PIL import Image\n",
    "import os"
   ]
  },
  {
   "cell_type": "code",
   "execution_count": 8,
   "metadata": {},
   "outputs": [],
   "source": [
    "uncompressed=\"/my work/Python/Internship/Data/Testing/\"\n",
    "compressed=\"/my work/Python/Internship/Data/Compressed Testing/\"\n",
    "flower_names=os.listdir(uncompressed)"
   ]
  },
  {
   "cell_type": "code",
   "execution_count": 9,
   "metadata": {},
   "outputs": [
    {
     "data": {
      "text/plain": [
       "['Carnation', 'Cherry Blossom', 'Daisy', 'Lilly', 'Orchid', 'Rose']"
      ]
     },
     "execution_count": 9,
     "metadata": {},
     "output_type": "execute_result"
    }
   ],
   "source": [
    "flower_names"
   ]
  },
  {
   "cell_type": "code",
   "execution_count": 10,
   "metadata": {},
   "outputs": [
    {
     "name": "stdout",
     "output_type": "stream",
     "text": [
      "Processed  Carnation\n",
      "Processed  Cherry Blossom\n",
      "Processed  Daisy\n",
      "Processed  Lilly\n",
      "Processed  Orchid\n",
      "Processed  Rose\n",
      "Done\n"
     ]
    }
   ],
   "source": [
    "for i in flower_names:\n",
    "    path=uncompressed+str(i)+\"/\"\n",
    "    save_path=compressed+str(i)+\"/\"\n",
    "    for x in os.listdir(path):\n",
    "        img=Image.open(path+str(x))\n",
    "        img.thumbnail((300,300))\n",
    "        img.save(save_path+\"compressed_\"+str(x)+\".jpg\",optimize=True,quality=85)\n",
    "    print(\"Processed \",str(i))\n",
    "print(\"Done\")"
   ]
  },
  {
   "cell_type": "code",
   "execution_count": null,
   "metadata": {},
   "outputs": [],
   "source": []
  }
 ],
 "metadata": {
  "kernelspec": {
   "display_name": "Python 3",
   "language": "python",
   "name": "python3"
  },
  "language_info": {
   "codemirror_mode": {
    "name": "ipython",
    "version": 3
   },
   "file_extension": ".py",
   "mimetype": "text/x-python",
   "name": "python",
   "nbconvert_exporter": "python",
   "pygments_lexer": "ipython3",
   "version": "3.7.0"
  }
 },
 "nbformat": 4,
 "nbformat_minor": 2
}
