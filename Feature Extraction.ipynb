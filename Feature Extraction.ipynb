{
 "cells": [
  {
   "cell_type": "code",
   "execution_count": 1,
   "metadata": {},
   "outputs": [],
   "source": [
    "from sklearn.preprocessing import LabelEncoder\n",
    "import numpy as np\n",
    "import mahotas\n",
    "import cv2\n",
    "import os\n",
    "import pandas as pd"
   ]
  },
  {
   "cell_type": "code",
   "execution_count": 2,
   "metadata": {},
   "outputs": [],
   "source": [
    "def fe_hu_moments(image):\n",
    "    image=cv2.cvtColor(image,cv2.COLOR_BGR2GRAY)\n",
    "    feature=cv2.HuMoments(cv2.moments(image)).flatten()\n",
    "    return feature\n",
    "def fe_color_hist(image):\n",
    "    image=cv2.cvtColor(image,cv2.COLOR_BGR2HSV)\n",
    "    hist=cv2.calcHist([image],[0,1,2],None,[8,8,8],[0,256,0,256,0,256])\n",
    "    cv2.normalize(hist,hist)\n",
    "    return hist.flatten()\n",
    "def fe_haralick(image):\n",
    "    image=cv2.cvtColor(image,cv2.COLOR_BGR2GRAY)\n",
    "    haralick=mahotas.features.haralick(image).mean(axis=0)\n",
    "    return haralick"
   ]
  },
  {
   "cell_type": "code",
   "execution_count": 3,
   "metadata": {},
   "outputs": [],
   "source": [
    "data_path=\"Data/Compressed/\"\n",
    "\n",
    "train_labels=os.listdir(data_path)\n",
    "train_labels.sort()\n",
    "\n",
    "col_Features=[]\n",
    "col_Name=[]"
   ]
  },
  {
   "cell_type": "code",
   "execution_count": null,
   "metadata": {},
   "outputs": [],
   "source": [
    "for flower_name in train_labels:\n",
    "    dir=os.path.join(data_path,flower_name)\n",
    "    current_label=flower_name\n",
    "    for x in os.listdir(dir):\n",
    "        file=dir+\"/\"+str(x)\n",
    "        image=cv2.imread(file)\n",
    "        hu_moment=fe_hu_moments(image)\n",
    "        color_hist=fe_color_hist(image)\n",
    "        haralick=fe_haralick(image)\n",
    "        col_Features.append(np.hstack([hu_moment,color_hist,haralick]))\n",
    "        col_Name.append(current_label)\n",
    "    print(\"Processed \",current_label)\n",
    "print(\"Global Feature Extraction Done\")"
   ]
  },
  {
   "cell_type": "code",
   "execution_count": null,
   "metadata": {},
   "outputs": [],
   "source": [
    "le=LabelEncoder()\n",
    "col_Name=le.fit_transform(col_Name)"
   ]
  },
  {
   "cell_type": "code",
   "execution_count": null,
   "metadata": {},
   "outputs": [],
   "source": [
    "features=pd.DataFrame(col_Features)\n",
    "features['Name']=col_Name\n",
    "features.to_csv('features.csv')"
   ]
  }
 ],
 "metadata": {
  "kernelspec": {
   "display_name": "Python 3",
   "language": "python",
   "name": "python3"
  },
  "language_info": {
   "codemirror_mode": {
    "name": "ipython",
    "version": 3
   },
   "file_extension": ".py",
   "mimetype": "text/x-python",
   "name": "python",
   "nbconvert_exporter": "python",
   "pygments_lexer": "ipython3",
   "version": "3.7.0"
  }
 },
 "nbformat": 4,
 "nbformat_minor": 2
}
